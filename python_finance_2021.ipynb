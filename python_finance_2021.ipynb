{
 "cells": [
  {
   "cell_type": "markdown",
   "id": "8999b786",
   "metadata": {},
   "source": [
    "<div align='center' ><font size='5'>浙江工商大学2021/2022学年第一学期考试试卷(A)</font></div>\n",
    "\n",
    "\n",
    "\n",
    "课程名称： **Python在金融中的应用**    考试方式：**独立作业**\n",
    "\n",
    "班级名称：_______     学号：______      姓名： ______  \n",
    "\n",
    "| 题号 | 一   | 二   | 三   | 四   | 合计 |\n",
    "| ---- | ---- | ---- | ---- | ---- | ---- |\n",
    "| 满分 | 25   | 25   | 20   | 30   | 100  |\n",
    "| 得分 |      |      |      |      |      |\n",
    "\n",
    "\n",
    "\n",
    "**注意事项：**\n",
    "\n",
    "1. 请大家务必独立完成，独立大作业视作考试，请不要抄袭。\n",
    "\n",
    "2. 判分会综合考虑代码和运行结果，因此如果运行结果发生问题，可以仅提供代码。注意：没有代码过程的结果不给分。\n",
    "\n",
    "3. 请尽可能给代码加上注释。作图的结果请不要用截图，可以使用插入图片的方式。 \n",
    "\n",
    "4. 在完成作业要求的基础上，鼓励大家根据自己的理解做适当的拓展，并请在代码上做出明确的注释。\n",
    "\n",
    "5. 请大家注意版面的整洁和清晰程度，鼓励大家使用Markdown模板，也可以使用Word模板。电子版务必转成pdf格式(在浏览器中使用Ctrl+P即可完成打印到PDF)。 \n",
    "\n",
    "    \n",
    "\n",
    "   **作业最晚提交时间： 2021年1月4日中午12点   烦请每个班派一位代表联系我，将纸质版和电子版的作业交至我处。**\n",
    "\n",
    "\n",
    "\n",
    "数据： \n",
    "\n",
    "- 50只个股2020年1月1日至2021年12月10日的价格信息（开盘价、收盘价、最高价、最低价、成交量） stock_info.xls\n",
    "\n",
    "- 45只基金2020年1月1日至2021年12月10日的价格信息（基金净值） fund_info.xls\n",
    "\n",
    "- 沪深300指数2020年1月1日至2021年12月10日的数据  index_info.xls\n",
    "\n",
    "下载链接：\n",
    "\n",
    "https://pan.baidu.com/s/1vanBliuDQfqCgrrOX-irHQ      提取码：1234\n",
    "\n",
    "数据各指标说明：    \n",
    "\n",
    "https://tushare.pro/document/2?doc_id=27"
   ]
  },
  {
   "cell_type": "markdown",
   "id": "5b366e58",
   "metadata": {},
   "source": [
    "**作业一：**\n",
    "\n",
    "1.1 从数据中任选五只股票，与五只基金并使用pandas的相应函数读取数据。（5%）"
   ]
  },
  {
   "cell_type": "code",
   "execution_count": null,
   "id": "d787e9fb",
   "metadata": {},
   "outputs": [],
   "source": []
  },
  {
   "cell_type": "markdown",
   "id": "e07ac06e",
   "metadata": {},
   "source": [
    "1.2使用pandas函数，计算出5只（任选）基金净值在样本期的累积收益率序列。（10%）"
   ]
  },
  {
   "cell_type": "code",
   "execution_count": null,
   "id": "81556aed",
   "metadata": {},
   "outputs": [],
   "source": []
  },
  {
   "cell_type": "markdown",
   "id": "5a77a2e3",
   "metadata": {},
   "source": [
    "1.3使用pandas的作图命令，做出1只（任选）基金的净值的累积收益率和相应时期沪深300指数的累积收益率。（10%）"
   ]
  },
  {
   "cell_type": "code",
   "execution_count": null,
   "id": "3e8e42bf",
   "metadata": {},
   "outputs": [],
   "source": []
  },
  {
   "cell_type": "markdown",
   "id": "b140a343",
   "metadata": {},
   "source": [
    "\n",
    "**作业二：**\n",
    "\n",
    "2.1 将1.1中读取的股票数据只留下收盘价并转化为numpy.array格式，基金数据同理。要求使用numpy的相应函数。（5%）"
   ]
  },
  {
   "cell_type": "code",
   "execution_count": null,
   "id": "c1b44226",
   "metadata": {},
   "outputs": [],
   "source": []
  },
  {
   "cell_type": "markdown",
   "id": "f220f45d",
   "metadata": {},
   "source": [
    "2.2 计算2.1中股票（任选）在样本期（2020年1月1日至2021年12月10日）的波动率，可使用方差表示，要求使用numpy的相应函数完成。（10%）"
   ]
  },
  {
   "cell_type": "code",
   "execution_count": null,
   "id": "409ad8a9",
   "metadata": {},
   "outputs": [],
   "source": []
  },
  {
   "cell_type": "markdown",
   "id": "dceb9fd4",
   "metadata": {},
   "source": [
    "2.3 计算2.1中基金（任选）在样本期（2020年1月1日至2021年12月10日）的年化收益率，要求使用numpy的相应函数完成。 （10%）"
   ]
  },
  {
   "cell_type": "code",
   "execution_count": null,
   "id": "2311e169",
   "metadata": {},
   "outputs": [],
   "source": []
  },
  {
   "cell_type": "markdown",
   "id": "a13f0f76",
   "metadata": {},
   "source": [
    "**作业三：**\n",
    "\n",
    "3.1 使用matplotlib的相应函数，做出一张图，其中包含2*2共4张子图，每张图为一个基金的净值走势。(1.1基金5选4)（10%）"
   ]
  },
  {
   "cell_type": "code",
   "execution_count": null,
   "id": "aaa90ef9",
   "metadata": {},
   "outputs": [],
   "source": []
  },
  {
   "cell_type": "markdown",
   "id": "3e6f5d19",
   "metadata": {},
   "source": [
    "3.2 使用numpy和matplotlib的相应函数，计算5个股票（使用收盘价）的日收益率，并做出5个股票收益率之间的相关性，将其协方差矩阵通过热力图（imshow或者sns.heatmap）来展现。（10%）"
   ]
  },
  {
   "cell_type": "code",
   "execution_count": null,
   "id": "c396faf3",
   "metadata": {},
   "outputs": [],
   "source": []
  },
  {
   "cell_type": "markdown",
   "id": "bdbdb902",
   "metadata": {},
   "source": [
    "**作业四：**\n",
    "\n",
    "4.1 通过计算夏普比率（可任意设定无风险利率），来寻找50个股票中，在2020年（仅一年）表现最好的5个股票（即夏普比率最高）。（10%）"
   ]
  },
  {
   "cell_type": "code",
   "execution_count": null,
   "id": "fb67c04e",
   "metadata": {},
   "outputs": [],
   "source": []
  },
  {
   "cell_type": "markdown",
   "id": "e1249ddf",
   "metadata": {},
   "source": [
    "4.2选取任一股票，将其收盘价作图表示，并在同一张图上做出其5日、10日、20日K线。（10%）"
   ]
  },
  {
   "cell_type": "code",
   "execution_count": null,
   "id": "46f0ca70",
   "metadata": {},
   "outputs": [],
   "source": []
  },
  {
   "cell_type": "markdown",
   "id": "e8d754af",
   "metadata": {},
   "source": [
    "4.3使用两独立样本均值检验的方法，任选两只基金，计算它们净值的日收益序列，并计算该两只基金净值日均收益是否显著相等。（10%）"
   ]
  },
  {
   "cell_type": "code",
   "execution_count": null,
   "id": "5f98c4d9",
   "metadata": {},
   "outputs": [],
   "source": []
  }
 ],
 "metadata": {
  "kernelspec": {
   "display_name": "Python 3",
   "language": "python",
   "name": "python3"
  },
  "language_info": {
   "codemirror_mode": {
    "name": "ipython",
    "version": 3
   },
   "file_extension": ".py",
   "mimetype": "text/x-python",
   "name": "python",
   "nbconvert_exporter": "python",
   "pygments_lexer": "ipython3",
   "version": "3.8.8"
  },
  "toc": {
   "base_numbering": 1,
   "nav_menu": {},
   "number_sections": true,
   "sideBar": true,
   "skip_h1_title": false,
   "title_cell": "Table of Contents",
   "title_sidebar": "Contents",
   "toc_cell": false,
   "toc_position": {},
   "toc_section_display": true,
   "toc_window_display": false
  },
  "varInspector": {
   "cols": {
    "lenName": 16,
    "lenType": 16,
    "lenVar": 40
   },
   "kernels_config": {
    "python": {
     "delete_cmd_postfix": "",
     "delete_cmd_prefix": "del ",
     "library": "var_list.py",
     "varRefreshCmd": "print(var_dic_list())"
    },
    "r": {
     "delete_cmd_postfix": ") ",
     "delete_cmd_prefix": "rm(",
     "library": "var_list.r",
     "varRefreshCmd": "cat(var_dic_list()) "
    }
   },
   "types_to_exclude": [
    "module",
    "function",
    "builtin_function_or_method",
    "instance",
    "_Feature"
   ],
   "window_display": false
  }
 },
 "nbformat": 4,
 "nbformat_minor": 5
}
